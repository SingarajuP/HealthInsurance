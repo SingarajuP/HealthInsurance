{
 "cells": [
  {
   "cell_type": "code",
   "execution_count": 1,
   "metadata": {},
   "outputs": [],
   "source": [
    "# Required packages\n",
    "import numpy as np\n",
    "import pandas as pd\n",
    "%matplotlib inline \n",
    "import matplotlib.pyplot as plt\n",
    "import matplotlib.pylab as pylab\n",
    "import seaborn as sns\n",
    "\n",
    "%matplotlib inline "
   ]
  },
  {
   "cell_type": "code",
   "execution_count": 2,
   "metadata": {},
   "outputs": [],
   "source": [
    "#loading train and test data into dataframe\n",
    "df_train=pd.read_csv(\"train_Df64byy.csv\",delimiter=',')\n",
    "df_test=pd.read_csv(\"test_YCcRUnU.csv\",delimiter=',')"
   ]
  },
  {
   "cell_type": "code",
   "execution_count": 3,
   "metadata": {},
   "outputs": [
    {
     "data": {
      "text/html": [
       "<div>\n",
       "<style scoped>\n",
       "    .dataframe tbody tr th:only-of-type {\n",
       "        vertical-align: middle;\n",
       "    }\n",
       "\n",
       "    .dataframe tbody tr th {\n",
       "        vertical-align: top;\n",
       "    }\n",
       "\n",
       "    .dataframe thead th {\n",
       "        text-align: right;\n",
       "    }\n",
       "</style>\n",
       "<table border=\"1\" class=\"dataframe\">\n",
       "  <thead>\n",
       "    <tr style=\"text-align: right;\">\n",
       "      <th></th>\n",
       "      <th>ID</th>\n",
       "      <th>City_Code</th>\n",
       "      <th>Region_Code</th>\n",
       "      <th>Accomodation_Type</th>\n",
       "      <th>Reco_Insurance_Type</th>\n",
       "      <th>Upper_Age</th>\n",
       "      <th>Lower_Age</th>\n",
       "      <th>Is_Spouse</th>\n",
       "      <th>Health Indicator</th>\n",
       "      <th>Holding_Policy_Duration</th>\n",
       "      <th>Holding_Policy_Type</th>\n",
       "      <th>Reco_Policy_Cat</th>\n",
       "      <th>Reco_Policy_Premium</th>\n",
       "      <th>Response</th>\n",
       "    </tr>\n",
       "  </thead>\n",
       "  <tbody>\n",
       "    <tr>\n",
       "      <th>0</th>\n",
       "      <td>1</td>\n",
       "      <td>C3</td>\n",
       "      <td>3213</td>\n",
       "      <td>Rented</td>\n",
       "      <td>Individual</td>\n",
       "      <td>36</td>\n",
       "      <td>36</td>\n",
       "      <td>No</td>\n",
       "      <td>X1</td>\n",
       "      <td>14+</td>\n",
       "      <td>3.0</td>\n",
       "      <td>22</td>\n",
       "      <td>11628.0</td>\n",
       "      <td>0</td>\n",
       "    </tr>\n",
       "    <tr>\n",
       "      <th>1</th>\n",
       "      <td>2</td>\n",
       "      <td>C5</td>\n",
       "      <td>1117</td>\n",
       "      <td>Owned</td>\n",
       "      <td>Joint</td>\n",
       "      <td>75</td>\n",
       "      <td>22</td>\n",
       "      <td>No</td>\n",
       "      <td>X2</td>\n",
       "      <td>NaN</td>\n",
       "      <td>NaN</td>\n",
       "      <td>22</td>\n",
       "      <td>30510.0</td>\n",
       "      <td>0</td>\n",
       "    </tr>\n",
       "    <tr>\n",
       "      <th>2</th>\n",
       "      <td>3</td>\n",
       "      <td>C5</td>\n",
       "      <td>3732</td>\n",
       "      <td>Owned</td>\n",
       "      <td>Individual</td>\n",
       "      <td>32</td>\n",
       "      <td>32</td>\n",
       "      <td>No</td>\n",
       "      <td>NaN</td>\n",
       "      <td>1.0</td>\n",
       "      <td>1.0</td>\n",
       "      <td>19</td>\n",
       "      <td>7450.0</td>\n",
       "      <td>1</td>\n",
       "    </tr>\n",
       "    <tr>\n",
       "      <th>3</th>\n",
       "      <td>4</td>\n",
       "      <td>C24</td>\n",
       "      <td>4378</td>\n",
       "      <td>Owned</td>\n",
       "      <td>Joint</td>\n",
       "      <td>52</td>\n",
       "      <td>48</td>\n",
       "      <td>No</td>\n",
       "      <td>X1</td>\n",
       "      <td>14+</td>\n",
       "      <td>3.0</td>\n",
       "      <td>19</td>\n",
       "      <td>17780.0</td>\n",
       "      <td>0</td>\n",
       "    </tr>\n",
       "    <tr>\n",
       "      <th>4</th>\n",
       "      <td>5</td>\n",
       "      <td>C8</td>\n",
       "      <td>2190</td>\n",
       "      <td>Rented</td>\n",
       "      <td>Individual</td>\n",
       "      <td>44</td>\n",
       "      <td>44</td>\n",
       "      <td>No</td>\n",
       "      <td>X2</td>\n",
       "      <td>3.0</td>\n",
       "      <td>1.0</td>\n",
       "      <td>16</td>\n",
       "      <td>10404.0</td>\n",
       "      <td>0</td>\n",
       "    </tr>\n",
       "  </tbody>\n",
       "</table>\n",
       "</div>"
      ],
      "text/plain": [
       "   ID City_Code  Region_Code Accomodation_Type Reco_Insurance_Type  Upper_Age  \\\n",
       "0   1        C3         3213            Rented          Individual         36   \n",
       "1   2        C5         1117             Owned               Joint         75   \n",
       "2   3        C5         3732             Owned          Individual         32   \n",
       "3   4       C24         4378             Owned               Joint         52   \n",
       "4   5        C8         2190            Rented          Individual         44   \n",
       "\n",
       "   Lower_Age Is_Spouse Health Indicator Holding_Policy_Duration  \\\n",
       "0         36        No               X1                     14+   \n",
       "1         22        No               X2                     NaN   \n",
       "2         32        No              NaN                     1.0   \n",
       "3         48        No               X1                     14+   \n",
       "4         44        No               X2                     3.0   \n",
       "\n",
       "   Holding_Policy_Type  Reco_Policy_Cat  Reco_Policy_Premium  Response  \n",
       "0                  3.0               22              11628.0         0  \n",
       "1                  NaN               22              30510.0         0  \n",
       "2                  1.0               19               7450.0         1  \n",
       "3                  3.0               19              17780.0         0  \n",
       "4                  1.0               16              10404.0         0  "
      ]
     },
     "execution_count": 3,
     "metadata": {},
     "output_type": "execute_result"
    }
   ],
   "source": [
    "df_train.head()"
   ]
  },
  {
   "cell_type": "markdown",
   "metadata": {},
   "source": [
    "### Data Exploration"
   ]
  },
  {
   "cell_type": "code",
   "execution_count": 5,
   "metadata": {},
   "outputs": [
    {
     "name": "stdout",
     "output_type": "stream",
     "text": [
      "(50882, 14)\n",
      "ID                           int64\n",
      "City_Code                   object\n",
      "Region_Code                  int64\n",
      "Accomodation_Type           object\n",
      "Reco_Insurance_Type         object\n",
      "Upper_Age                    int64\n",
      "Lower_Age                    int64\n",
      "Is_Spouse                   object\n",
      "Health Indicator            object\n",
      "Holding_Policy_Duration     object\n",
      "Holding_Policy_Type        float64\n",
      "Reco_Policy_Cat              int64\n",
      "Reco_Policy_Premium        float64\n",
      "Response                     int64\n",
      "dtype: object\n"
     ]
    }
   ],
   "source": [
    "print(df_train.shape)\n",
    "print(df_train.dtypes)"
   ]
  },
  {
   "cell_type": "code",
   "execution_count": 7,
   "metadata": {},
   "outputs": [
    {
     "name": "stdout",
     "output_type": "stream",
     "text": [
      "ID                             0\n",
      "City_Code                      0\n",
      "Region_Code                    0\n",
      "Accomodation_Type              0\n",
      "Reco_Insurance_Type            0\n",
      "Upper_Age                      0\n",
      "Lower_Age                      0\n",
      "Is_Spouse                      0\n",
      "Health Indicator           11691\n",
      "Holding_Policy_Duration    20251\n",
      "Holding_Policy_Type        20251\n",
      "Reco_Policy_Cat                0\n",
      "Reco_Policy_Premium            0\n",
      "Response                       0\n",
      "dtype: int64\n",
      "ID                            0\n",
      "City_Code                     0\n",
      "Region_Code                   0\n",
      "Accomodation_Type             0\n",
      "Reco_Insurance_Type           0\n",
      "Upper_Age                     0\n",
      "Lower_Age                     0\n",
      "Is_Spouse                     0\n",
      "Health Indicator           5027\n",
      "Holding_Policy_Duration    8603\n",
      "Holding_Policy_Type        8603\n",
      "Reco_Policy_Cat               0\n",
      "Reco_Policy_Premium           0\n",
      "dtype: int64\n"
     ]
    }
   ],
   "source": [
    "print(df_train.isnull().sum())\n",
    "print(df_test.isnull().sum())"
   ]
  },
  {
   "cell_type": "code",
   "execution_count": 8,
   "metadata": {},
   "outputs": [
    {
     "name": "stdout",
     "output_type": "stream",
     "text": [
      "Acomodation Type:\n",
      " Owned     27951\n",
      "Rented    22931\n",
      "Name: Accomodation_Type, dtype: int64\n",
      "Reco Insurance Type:\n",
      " Individual    40536\n",
      "Joint         10346\n",
      "Name: Reco_Insurance_Type, dtype: int64\n"
     ]
    }
   ],
   "source": [
    "print(\"Acomodation Type:\\n\" , df_train.Accomodation_Type.value_counts())\n",
    "print(\"Reco Insurance Type:\\n\" , df_train.Reco_Insurance_Type.value_counts())"
   ]
  },
  {
   "cell_type": "code",
   "execution_count": 10,
   "metadata": {},
   "outputs": [
    {
     "name": "stdout",
     "output_type": "stream",
     "text": [
      "75 18\n",
      "75 16\n"
     ]
    }
   ],
   "source": [
    "print(df_train.Upper_Age.max(),df_train.Upper_Age.min())\n",
    "print(df_train.Lower_Age.max(),df_train.Lower_Age.min())"
   ]
  },
  {
   "cell_type": "code",
   "execution_count": 11,
   "metadata": {},
   "outputs": [
    {
     "data": {
      "text/plain": [
       "No     42460\n",
       "Yes     8422\n",
       "Name: Is_Spouse, dtype: int64"
      ]
     },
     "execution_count": 11,
     "metadata": {},
     "output_type": "execute_result"
    }
   ],
   "source": [
    "df_train.Is_Spouse.value_counts()"
   ]
  },
  {
   "cell_type": "code",
   "execution_count": 12,
   "metadata": {},
   "outputs": [
    {
     "name": "stdout",
     "output_type": "stream",
     "text": [
      "X1    13010\n",
      "X2    10332\n",
      "X3     6762\n",
      "X4     5743\n",
      "X5     1727\n",
      "X6     1280\n",
      "X7      196\n",
      "X8       78\n",
      "X9       63\n",
      "Name: Health Indicator, dtype: int64\n",
      "1.0     4499\n",
      "14+     4335\n",
      "2.0     4260\n",
      "3.0     3586\n",
      "4.0     2771\n",
      "5.0     2362\n",
      "6.0     1894\n",
      "7.0     1645\n",
      "8.0     1316\n",
      "9.0     1114\n",
      "10.0     813\n",
      "11.0     546\n",
      "12.0     513\n",
      "13.0     511\n",
      "14.0     466\n",
      "Name: Holding_Policy_Duration, dtype: int64\n",
      "3.0    13279\n",
      "1.0     8173\n",
      "2.0     5005\n",
      "4.0     4174\n",
      "Name: Holding_Policy_Type, dtype: int64\n"
     ]
    }
   ],
   "source": [
    "print(df_train['Health Indicator'].value_counts())\n",
    "print(df_train.Holding_Policy_Duration.value_counts())\n",
    "print(df_train.Holding_Policy_Type.value_counts())"
   ]
  },
  {
   "cell_type": "code",
   "execution_count": 13,
   "metadata": {},
   "outputs": [
    {
     "data": {
      "text/plain": [
       "<AxesSubplot:xlabel='Accomodation_Type,Is_Spouse'>"
      ]
     },
     "execution_count": 13,
     "metadata": {},
     "output_type": "execute_result"
    },
    {
     "data": {
      "image/png": "[encoded data removed]",
      "text/plain": [
       "<Figure size 432x288 with 1 Axes>"
      ]
     },
     "metadata": {
      "needs_background": "light"
     },
     "output_type": "display_data"
    }
   ],
   "source": [
    "df_train.groupby(['Accomodation_Type','Is_Spouse','Response'])['Response'].count().unstack('Response').plot.bar()\n"
   ]
  },
  {
   "cell_type": "code",
   "execution_count": 14,
   "metadata": {},
   "outputs": [
    {
     "data": {
      "text/plain": [
       "<AxesSubplot:xlabel='Reco_Insurance_Type'>"
      ]
     },
     "execution_count": 14,
     "metadata": {},
     "output_type": "execute_result"
    },
    {
     "data": {
      "image/png": "[encoded data removed]",
      "text/plain": [
       "<Figure size 432x288 with 1 Axes>"
      ]
     },
     "metadata": {
      "needs_background": "light"
     },
     "output_type": "display_data"
    }
   ],
   "source": [
    "df_train.groupby(['Reco_Insurance_Type','Response'])['Response'].count().unstack('Response').plot.bar()"
   ]
  },
  {
   "cell_type": "code",
   "execution_count": 18,
   "metadata": {},
   "outputs": [
    {
     "data": {
      "text/plain": [
       "<AxesSubplot:xlabel='Reco_Policy_Cat'>"
      ]
     },
     "execution_count": 18,
     "metadata": {},
     "output_type": "execute_result"
    },
    {
     "data": {
      "image/png": "[encoded data removed]",
      "text/plain": [
       "<Figure size 432x288 with 1 Axes>"
      ]
     },
     "metadata": {
      "needs_background": "light"
     },
     "output_type": "display_data"
    }
   ],
   "source": [
    "df_train.groupby(['Reco_Policy_Cat','Response'])['Response'].count().unstack('Response').plot.bar()"
   ]
  },
  {
   "cell_type": "code",
   "execution_count": 113,
   "metadata": {},
   "outputs": [],
   "source": [
    "bins = [16, 30, 45, 60, 75]\n",
    "labels = ['16-30', '21-45', '46-60', '61-75']\n",
    "df_train['Upper_agegroup'] = pd.cut(df_train.Upper_Age, bins, labels = labels,include_lowest = True)\n",
    "df_train['Lower_agegroup'] = pd.cut(df_train.Lower_Age, bins, labels = labels,include_lowest = True)\n",
    "\n",
    "df_test['Upper_agegroup'] = pd.cut(df_test.Upper_Age, bins, labels = labels,include_lowest = True)\n",
    "df_test['Lower_agegroup'] = pd.cut(df_test.Lower_Age, bins, labels = labels,include_lowest = True)\n",
    "\n"
   ]
  },
  {
   "cell_type": "code",
   "execution_count": 16,
   "metadata": {},
   "outputs": [
    {
     "data": {
      "text/plain": [
       "<AxesSubplot:xlabel='Upper_agegroup'>"
      ]
     },
     "execution_count": 16,
     "metadata": {},
     "output_type": "execute_result"
    },
    {
     "data": {
      "image/png": "[encoded data removed]",
      "text/plain": [
       "<Figure size 432x288 with 1 Axes>"
      ]
     },
     "metadata": {
      "needs_background": "light"
     },
     "output_type": "display_data"
    }
   ],
   "source": [
    "df_train.groupby(['Upper_agegroup','Response'])['Response'].count().unstack('Response').plot.bar()"
   ]
  },
  {
   "cell_type": "code",
   "execution_count": 19,
   "metadata": {},
   "outputs": [
    {
     "data": {
      "text/plain": [
       "<AxesSubplot:xlabel='Health Indicator'>"
      ]
     },
     "execution_count": 19,
     "metadata": {},
     "output_type": "execute_result"
    },
    {
     "data": {
      "image/png": "[encoded data removed]",
      "text/plain": [
       "<Figure size 432x288 with 1 Axes>"
      ]
     },
     "metadata": {
      "needs_background": "light"
     },
     "output_type": "display_data"
    }
   ],
   "source": [
    "df_train.groupby(['Health Indicator','Response'])['Response'].count().unstack('Response').plot.bar()"
   ]
  },
  {
   "cell_type": "code",
   "execution_count": 20,
   "metadata": {},
   "outputs": [
    {
     "data": {
      "text/plain": [
       "<AxesSubplot:xlabel='Holding_Policy_Duration'>"
      ]
     },
     "execution_count": 20,
     "metadata": {},
     "output_type": "execute_result"
    },
    {
     "data": {
      "image/png": "[encoded data removed]",
      "text/plain": [
       "<Figure size 432x288 with 1 Axes>"
      ]
     },
     "metadata": {
      "needs_background": "light"
     },
     "output_type": "display_data"
    }
   ],
   "source": [
    "df_train.groupby(['Holding_Policy_Duration','Response'])['Response'].count().unstack('Response').plot.bar()"
   ]
  },
  {
   "cell_type": "code",
   "execution_count": 21,
   "metadata": {},
   "outputs": [
    {
     "data": {
      "text/plain": [
       "<AxesSubplot:xlabel='Holding_Policy_Type'>"
      ]
     },
     "execution_count": 21,
     "metadata": {},
     "output_type": "execute_result"
    },
    {
     "data": {
      "image/png": "[encoded data removed]",
      "text/plain": [
       "<Figure size 432x288 with 1 Axes>"
      ]
     },
     "metadata": {
      "needs_background": "light"
     },
     "output_type": "display_data"
    }
   ],
   "source": [
    "df_train.groupby(['Holding_Policy_Type','Response'])['Response'].count().unstack('Response').plot.bar()"
   ]
  },
  {
   "cell_type": "markdown",
   "metadata": {
    "slideshow": {
     "slide_type": "slide"
    }
   },
   "source": [
    "Imputing missing values in both train and test dataframe"
   ]
  },
  {
   "cell_type": "code",
   "execution_count": 22,
   "metadata": {},
   "outputs": [],
   "source": [
    "df_train['Health Indicator'].fillna(df_train['Health Indicator'].mode()[0], inplace=True)\n",
    "df_train['Holding_Policy_Duration'].fillna(0, inplace=True)\n",
    "df_train['Holding_Policy_Type'].fillna(0, inplace=True)\n",
    "\n",
    "df_test['Health Indicator'].fillna(df_test['Health Indicator'].mode()[0], inplace=True)\n",
    "df_test['Holding_Policy_Duration'].fillna(0, inplace=True)\n",
    "df_test['Holding_Policy_Type'].fillna(0, inplace=True)"
   ]
  },
  {
   "cell_type": "code",
   "execution_count": 114,
   "metadata": {},
   "outputs": [
    {
     "name": "stdout",
     "output_type": "stream",
     "text": [
      "Train dataset:\n",
      " ID                         0\n",
      "City_Code                  0\n",
      "Region_Code                0\n",
      "Accomodation_Type          0\n",
      "Reco_Insurance_Type        0\n",
      "Upper_Age                  0\n",
      "Lower_Age                  0\n",
      "Is_Spouse                  0\n",
      "Health Indicator           0\n",
      "Holding_Policy_Duration    0\n",
      "Holding_Policy_Type        0\n",
      "Reco_Policy_Cat            0\n",
      "Reco_Policy_Premium        0\n",
      "Response                   0\n",
      "Upper_agegroup             0\n",
      "Lower_agegroup             0\n",
      "dtype: int64\n",
      "Test dataset:\n",
      " ID                         0\n",
      "City_Code                  0\n",
      "Region_Code                0\n",
      "Accomodation_Type          0\n",
      "Reco_Insurance_Type        0\n",
      "Upper_Age                  0\n",
      "Lower_Age                  0\n",
      "Is_Spouse                  0\n",
      "Health Indicator           0\n",
      "Holding_Policy_Duration    0\n",
      "Holding_Policy_Type        0\n",
      "Reco_Policy_Cat            0\n",
      "Reco_Policy_Premium        0\n",
      "Upper_agegroup             0\n",
      "Lower_agegroup             0\n",
      "dtype: int64\n"
     ]
    }
   ],
   "source": [
    "print(\"Train dataset:\\n\", df_train.isna().sum())\n",
    "print(\"Test dataset:\\n\",df_test.isna().sum())"
   ]
  },
  {
   "cell_type": "markdown",
   "metadata": {},
   "source": [
    "### Feature Engineering"
   ]
  },
  {
   "cell_type": "code",
   "execution_count": 26,
   "metadata": {},
   "outputs": [
    {
     "name": "stdout",
     "output_type": "stream",
     "text": [
      "0       20251\n",
      "1.0      4499\n",
      "15.0     4335\n",
      "2.0      4260\n",
      "3.0      3586\n",
      "4.0      2771\n",
      "5.0      2362\n",
      "6.0      1894\n",
      "7.0      1645\n",
      "8.0      1316\n",
      "9.0      1114\n",
      "10.0      813\n",
      "11.0      546\n",
      "12.0      513\n",
      "13.0      511\n",
      "14.0      466\n",
      "Name: Holding_Policy_Duration, dtype: int64\n",
      "0       8603\n",
      "15.0    1892\n",
      "1.0     1891\n",
      "2.0     1772\n",
      "3.0     1606\n",
      "4.0     1205\n",
      "5.0      992\n",
      "6.0      903\n",
      "7.0      664\n",
      "8.0      569\n",
      "9.0      493\n",
      "10.0     333\n",
      "11.0     254\n",
      "13.0     221\n",
      "14.0     211\n",
      "12.0     196\n",
      "Name: Holding_Policy_Duration, dtype: int64\n"
     ]
    }
   ],
   "source": [
    "#Making 14+ to a number to make the column numeric datatype\n",
    "\n",
    "df_train['Holding_Policy_Duration'] = df_train['Holding_Policy_Duration'].replace(['14+'],'15.0')\n",
    "df_test['Holding_Policy_Duration'] = df_test['Holding_Policy_Duration'].replace(['14+'],'15.0')\n",
    "\n",
    "\n",
    "print(df_train.Holding_Policy_Duration.value_counts())\n",
    "print(df_test.Holding_Policy_Duration.value_counts())"
   ]
  },
  {
   "cell_type": "code",
   "execution_count": 115,
   "metadata": {},
   "outputs": [
    {
     "name": "stdout",
     "output_type": "stream",
     "text": [
      "ID                            int64\n",
      "City_Code                  category\n",
      "Region_Code                   int64\n",
      "Accomodation_Type             int64\n",
      "Reco_Insurance_Type           int64\n",
      "Upper_Age                     int64\n",
      "Lower_Age                     int64\n",
      "Is_Spouse                     int64\n",
      "Health Indicator           category\n",
      "Holding_Policy_Duration     float64\n",
      "Holding_Policy_Type         float64\n",
      "Reco_Policy_Cat               int64\n",
      "Reco_Policy_Premium         float64\n",
      "Response                      int64\n",
      "Upper_agegroup             category\n",
      "Lower_agegroup             category\n",
      "dtype: object\n",
      "ID                            int64\n",
      "City_Code                  category\n",
      "Region_Code                   int64\n",
      "Accomodation_Type             int64\n",
      "Reco_Insurance_Type           int64\n",
      "Upper_Age                     int64\n",
      "Lower_Age                     int64\n",
      "Is_Spouse                     int64\n",
      "Health Indicator           category\n",
      "Holding_Policy_Duration     float64\n",
      "Holding_Policy_Type         float64\n",
      "Reco_Policy_Cat               int64\n",
      "Reco_Policy_Premium         float64\n",
      "Upper_agegroup             category\n",
      "Lower_agegroup             category\n",
      "dtype: object\n"
     ]
    }
   ],
   "source": [
    "print(df_train.dtypes)\n",
    "print(df_test.dtypes)"
   ]
  },
  {
   "cell_type": "code",
   "execution_count": 28,
   "metadata": {},
   "outputs": [],
   "source": [
    "#Convert object datatype to numeric\n",
    "\n",
    "df_train['Accomodation_Type'].replace(to_replace=['Rented','Owned'], value=[0,1],inplace=True)\n",
    "df_train['Reco_Insurance_Type'].replace(to_replace=['Individual','Joint'], value=[0,1],inplace=True)\n",
    "df_train['Is_Spouse'].replace(to_replace=['No','Yes'], value=[0,1],inplace=True)\n",
    "\n",
    "df_test['Accomodation_Type'].replace(to_replace=['Rented','Owned'], value=[0,1],inplace=True)\n",
    "df_test['Reco_Insurance_Type'].replace(to_replace=['Individual','Joint'], value=[0,1],inplace=True)\n",
    "df_test['Is_Spouse'].replace(to_replace=['No','Yes'], value=[0,1],inplace=True)"
   ]
  },
  {
   "cell_type": "code",
   "execution_count": 29,
   "metadata": {},
   "outputs": [],
   "source": [
    "df_train['Holding_Policy_Duration'] = df_train['Holding_Policy_Duration'].astype(dtype=\"float64\")\n",
    "df_test['Holding_Policy_Duration'] = df_test['Holding_Policy_Duration'].astype(dtype=\"float64\")"
   ]
  },
  {
   "cell_type": "code",
   "execution_count": 30,
   "metadata": {},
   "outputs": [],
   "source": [
    "##Convert object datatype to categorical\n",
    "\n",
    "df_train['City_Code'] = df_train['City_Code'].astype(dtype=\"category\")\n",
    "df_train['Health Indicator'] = df_train['Health Indicator'].astype(dtype=\"category\")\n",
    "\n",
    "df_test['City_Code'] = df_test['City_Code'].astype(dtype=\"category\")\n",
    "df_test['Health Indicator'] = df_test['Health Indicator'].astype(dtype=\"category\")"
   ]
  },
  {
   "cell_type": "code",
   "execution_count": 32,
   "metadata": {},
   "outputs": [
    {
     "name": "stdout",
     "output_type": "stream",
     "text": [
      "ID                            int64\n",
      "City_Code                  category\n",
      "Region_Code                   int64\n",
      "Accomodation_Type             int64\n",
      "Reco_Insurance_Type           int64\n",
      "Upper_Age                     int64\n",
      "Lower_Age                     int64\n",
      "Is_Spouse                     int64\n",
      "Health Indicator           category\n",
      "Holding_Policy_Duration     float64\n",
      "Holding_Policy_Type         float64\n",
      "Reco_Policy_Cat               int64\n",
      "Reco_Policy_Premium         float64\n",
      "Response                      int64\n",
      "Upper_agegroup             category\n",
      "Lower_agegroup             category\n",
      "dtype: object\n",
      "ID                            int64\n",
      "City_Code                  category\n",
      "Region_Code                   int64\n",
      "Accomodation_Type             int64\n",
      "Reco_Insurance_Type           int64\n",
      "Upper_Age                     int64\n",
      "Lower_Age                     int64\n",
      "Is_Spouse                     int64\n",
      "Health Indicator           category\n",
      "Holding_Policy_Duration     float64\n",
      "Holding_Policy_Type         float64\n",
      "Reco_Policy_Cat               int64\n",
      "Reco_Policy_Premium         float64\n",
      "dtype: object\n"
     ]
    }
   ],
   "source": [
    "print(df_train.dtypes)\n",
    "print(df_test.dtypes)"
   ]
  },
  {
   "cell_type": "code",
   "execution_count": 121,
   "metadata": {},
   "outputs": [],
   "source": [
    "X=df_train.drop(['ID','Upper_Age','Lower_Age','Response'],axis=1)\n",
    "y=df_train['Response']"
   ]
  },
  {
   "cell_type": "code",
   "execution_count": 122,
   "metadata": {},
   "outputs": [
    {
     "data": {
      "text/plain": [
       "((50882, 12),\n",
       " City_Code                  category\n",
       " Region_Code                   int64\n",
       " Accomodation_Type             int64\n",
       " Reco_Insurance_Type           int64\n",
       " Is_Spouse                     int64\n",
       " Health Indicator           category\n",
       " Holding_Policy_Duration     float64\n",
       " Holding_Policy_Type         float64\n",
       " Reco_Policy_Cat               int64\n",
       " Reco_Policy_Premium         float64\n",
       " Upper_agegroup             category\n",
       " Lower_agegroup             category\n",
       " dtype: object,\n",
       " (50882,),\n",
       " dtype('int64'))"
      ]
     },
     "execution_count": 122,
     "metadata": {},
     "output_type": "execute_result"
    }
   ],
   "source": [
    "X.shape, X.dtypes, y.shape, y.dtypes"
   ]
  },
  {
   "cell_type": "code",
   "execution_count": 123,
   "metadata": {},
   "outputs": [
    {
     "name": "stdout",
     "output_type": "stream",
     "text": [
      "(50882, 65)\n",
      "Index(['City_Code', 'Region_Code', 'Accomodation_Type', 'Reco_Insurance_Type',\n",
      "       'Is_Spouse', 'Health Indicator', 'Holding_Policy_Duration',\n",
      "       'Holding_Policy_Type', 'Reco_Policy_Cat', 'Reco_Policy_Premium',\n",
      "       'Upper_agegroup', 'Lower_agegroup', 'City_Code_C1', 'City_Code_C10',\n",
      "       'City_Code_C11', 'City_Code_C12', 'City_Code_C13', 'City_Code_C14',\n",
      "       'City_Code_C15', 'City_Code_C16', 'City_Code_C17', 'City_Code_C18',\n",
      "       'City_Code_C19', 'City_Code_C2', 'City_Code_C20', 'City_Code_C21',\n",
      "       'City_Code_C22', 'City_Code_C23', 'City_Code_C24', 'City_Code_C25',\n",
      "       'City_Code_C26', 'City_Code_C27', 'City_Code_C28', 'City_Code_C29',\n",
      "       'City_Code_C3', 'City_Code_C30', 'City_Code_C31', 'City_Code_C32',\n",
      "       'City_Code_C33', 'City_Code_C34', 'City_Code_C35', 'City_Code_C36',\n",
      "       'City_Code_C4', 'City_Code_C5', 'City_Code_C6', 'City_Code_C7',\n",
      "       'City_Code_C8', 'City_Code_C9', 'Upper_agegroup_16-30',\n",
      "       'Upper_agegroup_21-45', 'Upper_agegroup_46-60', 'Upper_agegroup_61-75',\n",
      "       'Lower_agegroup_16-30', 'Lower_agegroup_21-45', 'Lower_agegroup_46-60',\n",
      "       'Lower_agegroup_61-75', 'Health Indicator_X1', 'Health Indicator_X2',\n",
      "       'Health Indicator_X3', 'Health Indicator_X4', 'Health Indicator_X5',\n",
      "       'Health Indicator_X6', 'Health Indicator_X7', 'Health Indicator_X8',\n",
      "       'Health Indicator_X9'],\n",
      "      dtype='object')\n"
     ]
    }
   ],
   "source": [
    "#One hot encoding to convert categorical to binary by using dummies\n",
    "\n",
    "X_dummy = pd.get_dummies(X[['City_Code','Upper_agegroup','Lower_agegroup','Health Indicator']])\n",
    "X = pd.concat([X,X_dummy],axis=1)\n",
    "print(X.shape)\n",
    "print(X.columns)"
   ]
  },
  {
   "cell_type": "code",
   "execution_count": 124,
   "metadata": {
    "scrolled": true
   },
   "outputs": [
    {
     "name": "stdout",
     "output_type": "stream",
     "text": [
      "(50882, 61)\n"
     ]
    }
   ],
   "source": [
    "X = X.drop(['City_Code','Upper_agegroup','Lower_agegroup','Health Indicator'],axis=1)\n",
    "print(X.shape)"
   ]
  },
  {
   "cell_type": "code",
   "execution_count": 154,
   "metadata": {},
   "outputs": [
    {
     "name": "stdout",
     "output_type": "stream",
     "text": [
      "(21805, 61)\n",
      "Index(['Region_Code', 'Accomodation_Type', 'Reco_Insurance_Type', 'Is_Spouse',\n",
      "       'Holding_Policy_Duration', 'Holding_Policy_Type', 'Reco_Policy_Cat',\n",
      "       'Reco_Policy_Premium', 'City_Code_C1', 'City_Code_C10', 'City_Code_C11',\n",
      "       'City_Code_C12', 'City_Code_C13', 'City_Code_C14', 'City_Code_C15',\n",
      "       'City_Code_C16', 'City_Code_C17', 'City_Code_C18', 'City_Code_C19',\n",
      "       'City_Code_C2', 'City_Code_C20', 'City_Code_C21', 'City_Code_C22',\n",
      "       'City_Code_C23', 'City_Code_C24', 'City_Code_C25', 'City_Code_C26',\n",
      "       'City_Code_C27', 'City_Code_C28', 'City_Code_C29', 'City_Code_C3',\n",
      "       'City_Code_C30', 'City_Code_C31', 'City_Code_C32', 'City_Code_C33',\n",
      "       'City_Code_C34', 'City_Code_C35', 'City_Code_C36', 'City_Code_C4',\n",
      "       'City_Code_C5', 'City_Code_C6', 'City_Code_C7', 'City_Code_C8',\n",
      "       'City_Code_C9', 'Upper_agegroup_16-30', 'Upper_agegroup_21-45',\n",
      "       'Upper_agegroup_46-60', 'Upper_agegroup_61-75', 'Lower_agegroup_16-30',\n",
      "       'Lower_agegroup_21-45', 'Lower_agegroup_46-60', 'Lower_agegroup_61-75',\n",
      "       'Health Indicator_X1', 'Health Indicator_X2', 'Health Indicator_X3',\n",
      "       'Health Indicator_X4', 'Health Indicator_X5', 'Health Indicator_X6',\n",
      "       'Health Indicator_X7', 'Health Indicator_X8', 'Health Indicator_X9'],\n",
      "      dtype='object')\n"
     ]
    }
   ],
   "source": [
    "X_test=df_test.drop(['ID','Upper_Age','Lower_Age'],axis=1)\n",
    "X_testdummy = pd.get_dummies(X_test[['City_Code','Upper_agegroup','Lower_agegroup','Health Indicator']])\n",
    "\n",
    "\n",
    "X_test=pd.concat([X_test,X_testdummy],axis=1)\n",
    "X_test = X_test.drop(['City_Code','Upper_agegroup','Lower_agegroup','Health Indicator'],axis=1)\n",
    "\n",
    "print(X_test.shape)\n",
    "print(X_test.columns)"
   ]
  },
  {
   "cell_type": "markdown",
   "metadata": {},
   "source": [
    "### Modeling"
   ]
  },
  {
   "cell_type": "code",
   "execution_count": 126,
   "metadata": {},
   "outputs": [],
   "source": [
    "from sklearn.model_selection import train_test_split\n",
    "import sklearn.model_selection as skms\n",
    "from sklearn.ensemble import RandomForestClassifier\n",
    "rf=RandomForestClassifier()\n",
    "from sklearn.metrics import confusion_matrix\n",
    "from sklearn.model_selection import cross_val_score\n",
    "import xgboost as xgb\n",
    "from xgboost import XGBClassifier\n",
    "XGB=XGBClassifier()\n",
    "from sklearn.linear_model import LogisticRegression\n",
    "lr=LogisticRegression()\n",
    "from sklearn.metrics import roc_curve, auc, roc_auc_score\n",
    "from sklearn.metrics import accuracy_score\n",
    "from imblearn.over_sampling import SMOTE\n",
    "from sklearn.metrics import classification_report\n",
    "from sklearn.model_selection import cross_validate\n",
    "from sklearn.model_selection import KFold\n",
    "from sklearn.model_selection import StratifiedKFold\n",
    "from sklearn.model_selection import GridSearchCV\n",
    "\n",
    "\n",
    "\n",
    "\n",
    "\n"
   ]
  },
  {
   "cell_type": "code",
   "execution_count": 127,
   "metadata": {},
   "outputs": [],
   "source": [
    "X_train , X_valid, y_train, y_valid = train_test_split(X,y, \n",
    "                                                       test_size=0.2, \n",
    "                                                       random_state=1, \n",
    "                                                       stratify=y)"
   ]
  },
  {
   "cell_type": "markdown",
   "metadata": {},
   "source": [
    "The Evaluation metric is ROC_AUC_SCORE"
   ]
  },
  {
   "cell_type": "code",
   "execution_count": 128,
   "metadata": {},
   "outputs": [],
   "source": [
    "logreg=lr.fit(X_train, y_train)"
   ]
  },
  {
   "cell_type": "code",
   "execution_count": 129,
   "metadata": {},
   "outputs": [],
   "source": [
    "ypred_lr=logreg.predict_proba(X_valid)[:,1]"
   ]
  },
  {
   "cell_type": "code",
   "execution_count": 130,
   "metadata": {},
   "outputs": [
    {
     "name": "stdout",
     "output_type": "stream",
     "text": [
      "The ROC_AUC_SCORE with Logistic Regression is : 0.532713391536921\n"
     ]
    }
   ],
   "source": [
    "print(\"The ROC_AUC_SCORE with Logistic Regression is :\",roc_auc_score(y_valid, ypred_lr))"
   ]
  },
  {
   "cell_type": "code",
   "execution_count": 131,
   "metadata": {},
   "outputs": [],
   "source": [
    "randfor=rf.fit(X_train, y_train)"
   ]
  },
  {
   "cell_type": "code",
   "execution_count": 132,
   "metadata": {},
   "outputs": [],
   "source": [
    "ypred_rf=randfor.predict_proba(X_valid)[:,1]"
   ]
  },
  {
   "cell_type": "code",
   "execution_count": 133,
   "metadata": {},
   "outputs": [
    {
     "name": "stdout",
     "output_type": "stream",
     "text": [
      "The ROC_AUC_SCORE with Random Forest is : 0.6046998841116488\n"
     ]
    }
   ],
   "source": [
    "print(\"The ROC_AUC_SCORE with Random Forest is :\",roc_auc_score(y_valid, ypred_rf))"
   ]
  },
  {
   "cell_type": "code",
   "execution_count": 134,
   "metadata": {},
   "outputs": [],
   "source": [
    "xgboost=XGB.fit(X_train, y_train)"
   ]
  },
  {
   "cell_type": "code",
   "execution_count": 135,
   "metadata": {},
   "outputs": [],
   "source": [
    "ypred_xgb=xgboost.predict_proba(X_valid)[:,1]"
   ]
  },
  {
   "cell_type": "code",
   "execution_count": 136,
   "metadata": {},
   "outputs": [
    {
     "name": "stdout",
     "output_type": "stream",
     "text": [
      "The ROC_AUC_SCORE with XGB Classifier is : 0.6671904142492378\n"
     ]
    }
   ],
   "source": [
    "print(\"The ROC_AUC_SCORE with XGB Classifier is :\",roc_auc_score(y_valid, ypred_xgb))"
   ]
  },
  {
   "cell_type": "markdown",
   "metadata": {},
   "source": [
    "Tuning parameters for XGB Classifier with GridSearch"
   ]
  },
  {
   "cell_type": "code",
   "execution_count": 92,
   "metadata": {},
   "outputs": [
    {
     "name": "stdout",
     "output_type": "stream",
     "text": [
      "Fitting 3 folds for each of 27 candidates, totalling 81 fits\n"
     ]
    },
    {
     "name": "stderr",
     "output_type": "stream",
     "text": [
      "[Parallel(n_jobs=-1)]: Using backend LokyBackend with 4 concurrent workers.\n",
      "[Parallel(n_jobs=-1)]: Done   5 tasks      | elapsed:  2.6min\n",
      "[Parallel(n_jobs=-1)]: Done  10 tasks      | elapsed:  6.5min\n",
      "[Parallel(n_jobs=-1)]: Done  17 tasks      | elapsed: 11.3min\n",
      "[Parallel(n_jobs=-1)]: Done  24 tasks      | elapsed: 21.1min\n",
      "[Parallel(n_jobs=-1)]: Done  33 tasks      | elapsed: 25.8min\n",
      "[Parallel(n_jobs=-1)]: Done  42 tasks      | elapsed: 33.9min\n",
      "[Parallel(n_jobs=-1)]: Done  53 tasks      | elapsed: 46.4min\n",
      "[Parallel(n_jobs=-1)]: Done  64 tasks      | elapsed: 53.4min\n",
      "[Parallel(n_jobs=-1)]: Done  81 out of  81 | elapsed: 71.8min finished\n"
     ]
    },
    {
     "data": {
      "text/plain": [
       "XGBClassifier(base_score=0.5, booster='gbtree', colsample_bylevel=1,\n",
       "              colsample_bynode=1, colsample_bytree=1, gamma=0, gpu_id=-1,\n",
       "              importance_type='gain', interaction_constraints='',\n",
       "              learning_rate=0.05, max_delta_step=0, max_depth=10,\n",
       "              min_child_weight=3, missing=nan, monotone_constraints='()',\n",
       "              n_estimators=200, n_jobs=0, num_parallel_tree=1, random_state=0,\n",
       "              reg_alpha=0, reg_lambda=1, scale_pos_weight=1, subsample=1,\n",
       "              tree_method='exact', validate_parameters=1, verbosity=None)"
      ]
     },
     "execution_count": 92,
     "metadata": {},
     "output_type": "execute_result"
    }
   ],
   "source": [
    "XGBMODEL=XGBClassifier()\n",
    "param_dist = {\"max_depth\": [10,30,50],\n",
    "              \"min_child_weight\" : [1,3,6],\n",
    "              \"n_estimators\": [200],\n",
    "              \"learning_rate\": [0.05, 0.1,0.16],}\n",
    "grid_search = GridSearchCV(XGBMODEL, param_grid=param_dist, cv = 3, \n",
    "                                   verbose=10, n_jobs=-1)\n",
    "grid_search.fit(X_train, y_train)\n",
    "\n",
    "grid_search.best_estimator_"
   ]
  },
  {
   "cell_type": "code",
   "execution_count": 137,
   "metadata": {},
   "outputs": [],
   "source": [
    "XGB=XGBClassifier(base_score=0.5, booster='gbtree', colsample_bylevel=1,\n",
    "              colsample_bynode=1, colsample_bytree=1, gamma=0, gpu_id=-1,\n",
    "              importance_type='gain', interaction_constraints='',\n",
    "              learning_rate=0.05, max_delta_step=0, max_depth=10,\n",
    "              min_child_weight=3, monotone_constraints='()',\n",
    "              n_estimators=200, n_jobs=0, num_parallel_tree=1, random_state=0,\n",
    "              reg_alpha=0, reg_lambda=1, scale_pos_weight=1, subsample=1,\n",
    "              tree_method='exact', validate_parameters=1, verbosity=None)"
   ]
  },
  {
   "cell_type": "code",
   "execution_count": 138,
   "metadata": {},
   "outputs": [],
   "source": [
    "xgboost=XGB.fit(X_train, y_train)"
   ]
  },
  {
   "cell_type": "code",
   "execution_count": 139,
   "metadata": {},
   "outputs": [],
   "source": [
    "ypred_xgb=xgboost.predict_proba(X_valid)[:,1]"
   ]
  },
  {
   "cell_type": "code",
   "execution_count": 140,
   "metadata": {},
   "outputs": [
    {
     "name": "stdout",
     "output_type": "stream",
     "text": [
      "The ROC_AUC_SCORE with optimized XGB Classifier is : 0.679264641029347\n"
     ]
    }
   ],
   "source": [
    "print(\"The ROC_AUC_SCORE with optimized XGB Classifier is :\",roc_auc_score(y_valid, ypred_xgb))"
   ]
  },
  {
   "cell_type": "markdown",
   "metadata": {},
   "source": [
    "Cross validation to improve performance"
   ]
  },
  {
   "cell_type": "code",
   "execution_count": 99,
   "metadata": {},
   "outputs": [
    {
     "name": "stdout",
     "output_type": "stream",
     "text": [
      "[0.67985465 0.66084235 0.68562062 0.68074614 0.68743073 0.67121615\n",
      " 0.68065134]\n",
      "The ROC_AUC_SCORE with XGB Classifier with Cross Validation is : 0.6780517094183959\n",
      "0.008497142895147983\n"
     ]
    }
   ],
   "source": [
    "#model = XGBClassifier()\n",
    "print(cross_val_score(XGB, X, y, scoring=\"roc_auc\", cv = 7))\n",
    "mean_score = cross_val_score(XGB, X, y, scoring=\"roc_auc\", cv = 7).mean()\n",
    "std_score = cross_val_score(XGB, X, y, scoring=\"roc_auc\", cv = 7).std()\n",
    "\n",
    "print(\"The ROC_AUC_SCORE with XGB Classifier with Cross Validation is :\",mean_score)\n",
    "print(std_score)"
   ]
  },
  {
   "cell_type": "code",
   "execution_count": 100,
   "metadata": {
    "scrolled": true
   },
   "outputs": [
    {
     "name": "stderr",
     "output_type": "stream",
     "text": [
      "/Users/phanisingaraju/anaconda3/lib/python3.7/site-packages/sklearn/model_selection/_split.py:297: FutureWarning: Setting a random_state has no effect since shuffle is False. This will raise an error in 0.24. You should leave random_state to its default (None), or set shuffle=True.\n",
      "  FutureWarning\n"
     ]
    },
    {
     "name": "stdout",
     "output_type": "stream",
     "text": [
      "[0.68525373 0.67737423 0.6743417  0.68431595 0.68595883 0.67925285\n",
      " 0.68049713 0.67420552 0.68732584 0.6767196 ]\n",
      "The ROC_AUC_SCORE with XGB Classifier with Stratified kfold Cross Validation is : 0.6805245378052752\n",
      "0.004655176929252263\n"
     ]
    }
   ],
   "source": [
    "\n",
    "kfold = StratifiedKFold(n_splits=10, random_state=7)\n",
    "print(cross_val_score(XGB, X, y, scoring=\"roc_auc\",cv=kfold))\n",
    "mean_score=cross_val_score(XGB, X, y, scoring=\"roc_auc\",cv=kfold).mean()\n",
    "std_score=cross_val_score(XGB, X, y, scoring=\"roc_auc\",cv=kfold).std()\n",
    "print(\"The ROC_AUC_SCORE with XGB Classifier with Stratified kfold Cross Validation is :\",mean_score)\n",
    "print(std_score)"
   ]
  },
  {
   "cell_type": "markdown",
   "metadata": {},
   "source": [
    "Prediction for the Test data"
   ]
  },
  {
   "cell_type": "code",
   "execution_count": 146,
   "metadata": {},
   "outputs": [],
   "source": [
    "result=pd.read_csv(\"sample_submission_QrCyCoT.csv\",delimiter=',')"
   ]
  },
  {
   "cell_type": "code",
   "execution_count": 155,
   "metadata": {},
   "outputs": [
    {
     "data": {
      "text/plain": [
       "(21805, 61)"
      ]
     },
     "execution_count": 155,
     "metadata": {},
     "output_type": "execute_result"
    }
   ],
   "source": [
    "X_test.shape"
   ]
  },
  {
   "cell_type": "code",
   "execution_count": 156,
   "metadata": {},
   "outputs": [],
   "source": [
    "ypred_xgb=xgboost.predict_proba(X_test)[:,1]"
   ]
  },
  {
   "cell_type": "code",
   "execution_count": 157,
   "metadata": {},
   "outputs": [
    {
     "data": {
      "text/plain": [
       "array([0.16417433, 0.4392957 , 0.29548243, ..., 0.02649022, 0.3183903 ,\n",
       "       0.13294253], dtype=float32)"
      ]
     },
     "execution_count": 157,
     "metadata": {},
     "output_type": "execute_result"
    }
   ],
   "source": [
    "ypred_xgb"
   ]
  },
  {
   "cell_type": "code",
   "execution_count": 158,
   "metadata": {},
   "outputs": [],
   "source": [
    "result['Response']=ypred_xgb"
   ]
  },
  {
   "cell_type": "code",
   "execution_count": 148,
   "metadata": {},
   "outputs": [
    {
     "data": {
      "text/plain": [
       "(21805, 2)"
      ]
     },
     "execution_count": 148,
     "metadata": {},
     "output_type": "execute_result"
    }
   ],
   "source": [
    "result.shape"
   ]
  },
  {
   "cell_type": "code",
   "execution_count": 161,
   "metadata": {},
   "outputs": [
    {
     "data": {
      "text/html": [
       "<div>\n",
       "<style scoped>\n",
       "    .dataframe tbody tr th:only-of-type {\n",
       "        vertical-align: middle;\n",
       "    }\n",
       "\n",
       "    .dataframe tbody tr th {\n",
       "        vertical-align: top;\n",
       "    }\n",
       "\n",
       "    .dataframe thead th {\n",
       "        text-align: right;\n",
       "    }\n",
       "</style>\n",
       "<table border=\"1\" class=\"dataframe\">\n",
       "  <thead>\n",
       "    <tr style=\"text-align: right;\">\n",
       "      <th></th>\n",
       "      <th>ID</th>\n",
       "      <th>Response</th>\n",
       "    </tr>\n",
       "  </thead>\n",
       "  <tbody>\n",
       "    <tr>\n",
       "      <th>0</th>\n",
       "      <td>50883</td>\n",
       "      <td>0.164174</td>\n",
       "    </tr>\n",
       "    <tr>\n",
       "      <th>1</th>\n",
       "      <td>50884</td>\n",
       "      <td>0.439296</td>\n",
       "    </tr>\n",
       "    <tr>\n",
       "      <th>2</th>\n",
       "      <td>50885</td>\n",
       "      <td>0.295482</td>\n",
       "    </tr>\n",
       "    <tr>\n",
       "      <th>3</th>\n",
       "      <td>50886</td>\n",
       "      <td>0.225372</td>\n",
       "    </tr>\n",
       "    <tr>\n",
       "      <th>4</th>\n",
       "      <td>50887</td>\n",
       "      <td>0.166161</td>\n",
       "    </tr>\n",
       "  </tbody>\n",
       "</table>\n",
       "</div>"
      ],
      "text/plain": [
       "      ID  Response\n",
       "0  50883  0.164174\n",
       "1  50884  0.439296\n",
       "2  50885  0.295482\n",
       "3  50886  0.225372\n",
       "4  50887  0.166161"
      ]
     },
     "execution_count": 161,
     "metadata": {},
     "output_type": "execute_result"
    }
   ],
   "source": [
    "result.head()"
   ]
  },
  {
   "cell_type": "code",
   "execution_count": null,
   "metadata": {},
   "outputs": [],
   "source": []
  }
 ],
 "metadata": {
  "kernelspec": {
   "display_name": "Python 3",
   "language": "python",
   "name": "python3"
  },
  "language_info": {
   "codemirror_mode": {
    "name": "ipython",
    "version": 3
   },
   "file_extension": ".py",
   "mimetype": "text/x-python",
   "name": "python",
   "nbconvert_exporter": "python",
   "pygments_lexer": "ipython3",
   "version": "3.7.7"
  }
 },
 "nbformat": 4,
 "nbformat_minor": 4
}
